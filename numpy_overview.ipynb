{
  "nbformat": 4,
  "nbformat_minor": 0,
  "metadata": {
    "colab": {
      "name": "numpy_overview.ipynb",
      "provenance": [],
      "collapsed_sections": []
    },
    "kernelspec": {
      "name": "python3",
      "display_name": "Python 3"
    },
    "language_info": {
      "name": "python"
    }
  },
  "cells": [
    {
      "cell_type": "code",
      "execution_count": 45,
      "metadata": {
        "id": "aA644FuQElhL"
      },
      "outputs": [],
      "source": [
        "import numpy as np"
      ]
    },
    {
      "cell_type": "markdown",
      "source": [
        "\n",
        "Creating Numpy Arrays\n"
      ],
      "metadata": {
        "id": "D2ty_b8xGEov"
      }
    },
    {
      "cell_type": "code",
      "source": [
        "print(np.array([[1, 3], [5, 6], [6, 9]]))\n",
        "\n",
        "print(np.arange(0, 100, 5))\n",
        "\n",
        "print(np.zeros((4, 2), np.int8))\n",
        "\n",
        "print(np.ones((8, 8)))\n",
        "\n",
        "#Start and Stop, plus how many numbers inbetween\n",
        "print(np.linspace(3, 20, 100))\n",
        "\n",
        "#Identity Matrix\n",
        "print(np.eye(5))"
      ],
      "metadata": {
        "colab": {
          "base_uri": "https://localhost:8080/"
        },
        "id": "ibZPDI9yGCbf",
        "outputId": "d46d48a4-205a-4479-e9f5-681a1f7d9141"
      },
      "execution_count": 15,
      "outputs": [
        {
          "output_type": "execute_result",
          "data": {
            "text/plain": [
              "array([[1., 0., 0., 0., 0.],\n",
              "       [0., 1., 0., 0., 0.],\n",
              "       [0., 0., 1., 0., 0.],\n",
              "       [0., 0., 0., 1., 0.],\n",
              "       [0., 0., 0., 0., 1.]])"
            ]
          },
          "metadata": {},
          "execution_count": 15
        }
      ]
    },
    {
      "cell_type": "markdown",
      "source": [
        "Randomly Generating Data"
      ],
      "metadata": {
        "id": "QXy8P0VuIeK4"
      }
    },
    {
      "cell_type": "code",
      "source": [
        "#Uniform Distribution\n",
        "print(np.random.rand(5,9))\n",
        "\n",
        "#Standard Normal Distribution\n",
        "print(np.random.randn(3,3))\n",
        "\n",
        "print(np.random.randint(2,55,20))\n",
        "\n",
        "#Seed\n",
        "np.random.seed(99)\n",
        "print(np.random.randint(4, 9, 1))\n",
        "print(np.random.randint(4, 9, 1))"
      ],
      "metadata": {
        "colab": {
          "base_uri": "https://localhost:8080/"
        },
        "id": "xXH_pWnzG1IC",
        "outputId": "77de4bd4-eae9-4d40-a228-4d53ffa31ed6"
      },
      "execution_count": 38,
      "outputs": [
        {
          "output_type": "stream",
          "name": "stdout",
          "text": [
            "[[0.4880784  0.82549517 0.03144639 0.80804996 0.56561742 0.2976225\n",
            "  0.04669572 0.9906274  0.00682573]\n",
            " [0.76979303 0.7467671  0.37743894 0.49414745 0.92894839 0.39545404\n",
            "  0.9739563  0.52441472 0.09361309]\n",
            " [0.81330841 0.21168679 0.55434578 0.29226912 0.81614236 0.82804257\n",
            "  0.22157737 0.6448347  0.09518162]\n",
            " [0.41166324 0.09686526 0.144011   0.21219618 0.47665615 0.07761384\n",
            "  0.23504378 0.006553   0.89864419]\n",
            " [0.55223443 0.16754663 0.92887818 0.5420877  0.04175853 0.52487684\n",
            "  0.64014254 0.80065816 0.83491885]]\n",
            "[[-1.70429169 -0.24390807 -2.13970379]\n",
            " [ 0.86132265  1.7002844  -0.5287848 ]\n",
            " [ 1.76347792 -1.12160783 -1.19193417]]\n",
            "[39 34  5  9 30 47 43  7 47 41 50 16 36 37 54 34 42 29  2 16]\n",
            "[5]\n",
            "[7]\n"
          ]
        }
      ]
    },
    {
      "cell_type": "markdown",
      "source": [
        "NP Array Untilities"
      ],
      "metadata": {
        "id": "tvGB4wsJLV-P"
      }
    },
    {
      "cell_type": "code",
      "source": [
        "#Reshaping\n",
        "arr = np.arange(0, 33).reshape(11,3)\n",
        "print(arr)\n",
        "\n",
        "print(arr.max())\n",
        "print(arr.min())\n",
        "\n",
        "print(arr.argmax())\n",
        "print(arr.argmin())\n",
        "\n",
        "print(arr.dtype)\n",
        "\n",
        "print(arr.shape)"
      ],
      "metadata": {
        "colab": {
          "base_uri": "https://localhost:8080/"
        },
        "id": "aq8ACHqTLWIe",
        "outputId": "165937f1-df2c-4ecb-ca62-3471d253c8b1"
      },
      "execution_count": 44,
      "outputs": [
        {
          "output_type": "stream",
          "name": "stdout",
          "text": [
            "[[ 0  1  2]\n",
            " [ 3  4  5]\n",
            " [ 6  7  8]\n",
            " [ 9 10 11]\n",
            " [12 13 14]\n",
            " [15 16 17]\n",
            " [18 19 20]\n",
            " [21 22 23]\n",
            " [24 25 26]\n",
            " [27 28 29]\n",
            " [30 31 32]]\n",
            "32\n",
            "0\n",
            "32\n",
            "0\n",
            "int64\n",
            "(11, 3)\n"
          ]
        }
      ]
    },
    {
      "cell_type": "markdown",
      "source": [
        "Indexing and Selecting"
      ],
      "metadata": {
        "id": "8_ul6zn7kCqx"
      }
    },
    {
      "cell_type": "code",
      "source": [
        "arr = np.arange(0,22)\n",
        "\n",
        "print(arr[4])\n",
        "print(arr[3:5])\n",
        "print(arr[:5])\n",
        "print(arr[18:])\n",
        "\n",
        "arr[0:10] = 22\n",
        "print(arr)\n",
        "\n",
        "s_arr = arr[0:10]\n",
        "print(s_arr)\n",
        "s_arr[:] = 0\n",
        "print(arr)\n",
        "\n",
        "s_arr = arr[0:10].copy()\n",
        "print(s_arr)\n",
        "s_arr[:] = 99\n",
        "print(arr)\n"
      ],
      "metadata": {
        "colab": {
          "base_uri": "https://localhost:8080/"
        },
        "id": "mVLjC-_akFVJ",
        "outputId": "6fadb8ad-4882-44ab-e6f1-40cf72fbe819"
      },
      "execution_count": 54,
      "outputs": [
        {
          "output_type": "stream",
          "name": "stdout",
          "text": [
            "4\n",
            "[3 4]\n",
            "[0 1 2 3 4]\n",
            "[18 19 20 21]\n",
            "[22 22 22 22 22 22 22 22 22 22 10 11 12 13 14 15 16 17 18 19 20 21]\n",
            "[22 22 22 22 22 22 22 22 22 22]\n",
            "[ 0  0  0  0  0  0  0  0  0  0 10 11 12 13 14 15 16 17 18 19 20 21]\n",
            "[0 0 0 0 0 0 0 0 0 0]\n",
            "[ 0  0  0  0  0  0  0  0  0  0 10 11 12 13 14 15 16 17 18 19 20 21]\n"
          ]
        }
      ]
    },
    {
      "cell_type": "code",
      "source": [
        "arr = np.arange(5, 46, 5).reshape(3,3)\n",
        "print(arr.shape)\n",
        "print(arr[0])\n",
        "print(arr[-1])\n",
        "\n",
        "print(arr[1][1])\n",
        "print(arr[1,1])\n",
        "\n",
        "print(arr[:2,1:])\n",
        "\n",
        "arr = np.arange(1,11)\n",
        "bool_arr = np.arange(1,11) > 4\n",
        "print(bool_arr)\n",
        "print(arr[bool_arr])\n",
        "\n",
        "print(arr[arr>4])"
      ],
      "metadata": {
        "colab": {
          "base_uri": "https://localhost:8080/"
        },
        "id": "zQHh8eTblQDu",
        "outputId": "1ef34a1d-70f6-44cf-caad-26bed135a218"
      },
      "execution_count": 66,
      "outputs": [
        {
          "output_type": "stream",
          "name": "stdout",
          "text": [
            "(3, 3)\n",
            "[ 5 10 15]\n",
            "[35 40 45]\n",
            "25\n",
            "25\n",
            "[[10 15]\n",
            " [25 30]]\n",
            "[False False False False  True  True  True  True  True  True]\n",
            "[ 5  6  7  8  9 10]\n",
            "[ 5  6  7  8  9 10]\n"
          ]
        }
      ]
    },
    {
      "cell_type": "markdown",
      "source": [
        "Operators"
      ],
      "metadata": {
        "id": "3hE2bKzEqZAQ"
      }
    },
    {
      "cell_type": "code",
      "source": [
        "arr = np.arange(1,11)\n",
        "print(arr)\n",
        "print(arr + 5)\n",
        "print(arr + arr)\n",
        "print(arr / arr)\n",
        "print(arr / 0)\n",
        "print(np.sqrt(arr))\n",
        "\n",
        "print(np.sin(arr))\n",
        "print(np.log(arr))\n",
        "\n",
        "arr = np.random.rand(20)\n",
        "\n",
        "print(arr.sum())\n",
        "print(arr.mean())\n",
        "print(arr.max())\n",
        "print(arr.var())\n",
        "print(arr.std())\n",
        "\n",
        "arr = np.arange(0,25).reshape(5,5)\n",
        "print(arr)\n",
        "print(arr.sum())\n",
        "print(arr.sum(axis=0))\n",
        "print(arr.sum(axis=1))"
      ],
      "metadata": {
        "colab": {
          "base_uri": "https://localhost:8080/"
        },
        "id": "h08yT83-qakI",
        "outputId": "234f0bf9-5088-46c9-9afc-4db280d0e8eb"
      },
      "execution_count": 73,
      "outputs": [
        {
          "output_type": "stream",
          "name": "stdout",
          "text": [
            "[ 1  2  3  4  5  6  7  8  9 10]\n",
            "[ 6  7  8  9 10 11 12 13 14 15]\n",
            "[ 2  4  6  8 10 12 14 16 18 20]\n",
            "[1. 1. 1. 1. 1. 1. 1. 1. 1. 1.]\n",
            "[inf inf inf inf inf inf inf inf inf inf]\n",
            "[1.         1.41421356 1.73205081 2.         2.23606798 2.44948974\n",
            " 2.64575131 2.82842712 3.         3.16227766]\n",
            "[ 0.84147098  0.90929743  0.14112001 -0.7568025  -0.95892427 -0.2794155\n",
            "  0.6569866   0.98935825  0.41211849 -0.54402111]\n",
            "[0.         0.69314718 1.09861229 1.38629436 1.60943791 1.79175947\n",
            " 1.94591015 2.07944154 2.19722458 2.30258509]\n",
            "9.869552698157337\n",
            "0.49347763490786684\n",
            "0.966070536896846\n",
            "0.09737991316630722\n",
            "0.31205754784383477\n",
            "[[ 0  1  2  3  4]\n",
            " [ 5  6  7  8  9]\n",
            " [10 11 12 13 14]\n",
            " [15 16 17 18 19]\n",
            " [20 21 22 23 24]]\n",
            "300\n",
            "[50 55 60 65 70]\n",
            "[ 10  35  60  85 110]\n"
          ]
        },
        {
          "output_type": "stream",
          "name": "stderr",
          "text": [
            "/usr/local/lib/python3.7/dist-packages/ipykernel_launcher.py:6: RuntimeWarning: divide by zero encountered in true_divide\n",
            "  \n"
          ]
        }
      ]
    }
  ]
}